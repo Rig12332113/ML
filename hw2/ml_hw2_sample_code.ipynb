{
  "nbformat": 4,
  "nbformat_minor": 0,
  "metadata": {
    "colab": {
      "provenance": [],
      "include_colab_link": true
    },
    "kernelspec": {
      "display_name": "Python 3",
      "language": "python",
      "name": "python3"
    },
    "language_info": {
      "codemirror_mode": {
        "name": "ipython",
        "version": 3
      },
      "file_extension": ".py",
      "mimetype": "text/x-python",
      "name": "python",
      "nbconvert_exporter": "python",
      "pygments_lexer": "ipython3",
      "version": "3.6.8"
    },
    "accelerator": "GPU"
  },
  "cells": [
    {
      "cell_type": "markdown",
      "metadata": {
        "id": "view-in-github",
        "colab_type": "text"
      },
      "source": [
        "<a href=\"https://colab.research.google.com/github/Rig12332113/ML/blob/master/hw2/ml_hw2_sample_code.ipynb\" target=\"_parent\"><img src=\"https://colab.research.google.com/assets/colab-badge.svg\" alt=\"Open In Colab\"/></a>"
      ]
    },
    {
      "cell_type": "markdown",
      "metadata": {
        "id": "VDVwVcC2ofHK"
      },
      "source": [
        "## ML HW2 sample code"
      ]
    },
    {
      "cell_type": "markdown",
      "source": [
        "若有問題可直接寄信至助教信箱，環境部分推薦使用前述所提到之環境，若使用自己的電腦執行，請注意環境的相容性\n"
      ],
      "metadata": {
        "id": "-MFWlImM-3FM"
      }
    },
    {
      "cell_type": "markdown",
      "source": [],
      "metadata": {
        "id": "lxEHor54-2WE"
      }
    },
    {
      "cell_type": "markdown",
      "metadata": {
        "id": "1rV0FCmEOSz0"
      },
      "source": [
        "#### Import packages"
      ]
    },
    {
      "cell_type": "code",
      "metadata": {
        "id": "sMsNXtVLopQ2"
      },
      "source": [
        "import os\n",
        "import random\n",
        "import glob\n",
        "import csv\n",
        "import torch\n",
        "import torch.nn as nn\n",
        "import numpy as np\n",
        "import pandas as pd\n",
        "\n",
        "from torch.optim import Adam\n",
        "from torchvision import transforms\n",
        "from torch.utils.data import DataLoader, Dataset\n",
        "from PIL import Image"
      ],
      "execution_count": null,
      "outputs": []
    },
    {
      "cell_type": "code",
      "metadata": {
        "id": "lfyxtZsqrw-_",
        "colab": {
          "base_uri": "https://localhost:8080/"
        },
        "outputId": "07f99ff6-4e10-4a2c-971d-f418d4d3b27d"
      },
      "source": [
        "!gdown 1drrS7gnyzUJPPiQcDWcHdIXqzjy2n3yZ\n",
        "!unzip '2023HW2.zip'"
      ],
      "execution_count": null,
      "outputs": [
        {
          "output_type": "stream",
          "name": "stdout",
          "text": [
            "Downloading...\n",
            "From: https://drive.google.com/uc?id=1drrS7gnyzUJPPiQcDWcHdIXqzjy2n3yZ\n",
            "To: /content/HW2.zip\n",
            "100% 41.9M/41.9M [00:00<00:00, 181MB/s]\n",
            "unzip:  cannot find or open 2023HW2.zip, 2023HW2.zip.zip or 2023HW2.zip.ZIP.\n"
          ]
        }
      ]
    },
    {
      "cell_type": "markdown",
      "metadata": {
        "id": "FbV9AEejOSz2"
      },
      "source": [
        "#### Set arguments and random seed"
      ]
    },
    {
      "cell_type": "code",
      "metadata": {
        "id": "U9hIGGaiOSz2"
      },
      "source": [
        "TRA_PATH = 'data/train/'\n",
        "TST_PATH = 'data/test/'\n",
        "LABEL_PATH = 'data/train.csv'\n",
        "DEVICE_ID = 0\n",
        "SEED = 1428\n",
        "NUM_ECPOCH = 300\n",
        "\n",
        "torch.cuda.set_device(DEVICE_ID)\n",
        "use_gpu = torch.cuda.is_available()\n",
        "device = torch.device(\"cuda\" if use_gpu else \"cpu\")\n",
        "\n",
        "torch.backends.cudnn.deterministic = True\n",
        "torch.backends.cudnn.benchmark = False\n",
        "torch.manual_seed(SEED)\n",
        "torch.cuda.manual_seed_all(SEED)\n",
        "random.seed(SEED)\n",
        "np.random.seed(SEED)"
      ],
      "execution_count": null,
      "outputs": []
    },
    {
      "cell_type": "markdown",
      "metadata": {
        "id": "F6fQ5BNqozM0"
      },
      "source": [
        "#### Process data"
      ]
    },
    {
      "cell_type": "code",
      "metadata": {
        "id": "G7-7syI4L9XE"
      },
      "source": [
        "def load_train_data(img_path, label_path, valid_ratio=0.12):\n",
        "    train_label = pd.read_csv(label_path)['label'].values.tolist()\n",
        "    train_image = [f'{img_path}/{i+7000}.jpg' for i in range(len(train_label)-1)]\n",
        "\n",
        "    train_data = list(zip(train_image, train_label))\n",
        "    random.shuffle(train_data)\n",
        "\n",
        "    split_len = int(len(train_data) * valid_ratio)\n",
        "    train_set = train_data[split_len:]\n",
        "    valid_set = train_data[:split_len]\n",
        "\n",
        "    return train_set, valid_set\n",
        "\n",
        "def load_test_data(img_path):\n",
        "    test_set = [f'{img_path}/{i}.jpg' for i in range(0,6999)]\n",
        "    return test_set\n",
        "\n",
        "def compute_statistics(dataset):\n",
        "    data = []\n",
        "    for (img_path, label) in dataset:\n",
        "        data.append(np.array(Image.open(img_path)))\n",
        "    data = np.array(data)\n",
        "    return data.mean(), data.std()"
      ],
      "execution_count": null,
      "outputs": []
    },
    {
      "cell_type": "code",
      "metadata": {
        "id": "XyGNv3zQOSz4",
        "colab": {
          "base_uri": "https://localhost:8080/",
          "height": 370
        },
        "outputId": "486ead6c-ad4a-40f9-fc26-d9b79750d6c1"
      },
      "source": [
        "train_set, valid_set = load_train_data(TRA_PATH, LABEL_PATH)\n",
        "test_set = load_test_data(TST_PATH)\n",
        "transform = None # do augmentation there"
      ],
      "execution_count": null,
      "outputs": [
        {
          "output_type": "error",
          "ename": "FileNotFoundError",
          "evalue": "ignored",
          "traceback": [
            "\u001b[0;31m---------------------------------------------------------------------------\u001b[0m",
            "\u001b[0;31mFileNotFoundError\u001b[0m                         Traceback (most recent call last)",
            "\u001b[0;32m<ipython-input-5-3d0fc6d3f462>\u001b[0m in \u001b[0;36m<cell line: 1>\u001b[0;34m()\u001b[0m\n\u001b[0;32m----> 1\u001b[0;31m \u001b[0mtrain_set\u001b[0m\u001b[0;34m,\u001b[0m \u001b[0mvalid_set\u001b[0m \u001b[0;34m=\u001b[0m \u001b[0mload_train_data\u001b[0m\u001b[0;34m(\u001b[0m\u001b[0mTRA_PATH\u001b[0m\u001b[0;34m,\u001b[0m \u001b[0mLABEL_PATH\u001b[0m\u001b[0;34m)\u001b[0m\u001b[0;34m\u001b[0m\u001b[0;34m\u001b[0m\u001b[0m\n\u001b[0m\u001b[1;32m      2\u001b[0m \u001b[0mtest_set\u001b[0m \u001b[0;34m=\u001b[0m \u001b[0mload_test_data\u001b[0m\u001b[0;34m(\u001b[0m\u001b[0mTST_PATH\u001b[0m\u001b[0;34m)\u001b[0m\u001b[0;34m\u001b[0m\u001b[0;34m\u001b[0m\u001b[0m\n\u001b[1;32m      3\u001b[0m \u001b[0mtransform\u001b[0m \u001b[0;34m=\u001b[0m \u001b[0;32mNone\u001b[0m \u001b[0;31m# do augmentation there\u001b[0m\u001b[0;34m\u001b[0m\u001b[0;34m\u001b[0m\u001b[0m\n",
            "\u001b[0;32m<ipython-input-4-bff81d148a0e>\u001b[0m in \u001b[0;36mload_train_data\u001b[0;34m(img_path, label_path, valid_ratio)\u001b[0m\n\u001b[1;32m      1\u001b[0m \u001b[0;32mdef\u001b[0m \u001b[0mload_train_data\u001b[0m\u001b[0;34m(\u001b[0m\u001b[0mimg_path\u001b[0m\u001b[0;34m,\u001b[0m \u001b[0mlabel_path\u001b[0m\u001b[0;34m,\u001b[0m \u001b[0mvalid_ratio\u001b[0m\u001b[0;34m=\u001b[0m\u001b[0;36m0.12\u001b[0m\u001b[0;34m)\u001b[0m\u001b[0;34m:\u001b[0m\u001b[0;34m\u001b[0m\u001b[0;34m\u001b[0m\u001b[0m\n\u001b[0;32m----> 2\u001b[0;31m     \u001b[0mtrain_label\u001b[0m \u001b[0;34m=\u001b[0m \u001b[0mpd\u001b[0m\u001b[0;34m.\u001b[0m\u001b[0mread_csv\u001b[0m\u001b[0;34m(\u001b[0m\u001b[0mlabel_path\u001b[0m\u001b[0;34m)\u001b[0m\u001b[0;34m[\u001b[0m\u001b[0;34m'label'\u001b[0m\u001b[0;34m]\u001b[0m\u001b[0;34m.\u001b[0m\u001b[0mvalues\u001b[0m\u001b[0;34m.\u001b[0m\u001b[0mtolist\u001b[0m\u001b[0;34m(\u001b[0m\u001b[0;34m)\u001b[0m\u001b[0;34m\u001b[0m\u001b[0;34m\u001b[0m\u001b[0m\n\u001b[0m\u001b[1;32m      3\u001b[0m     \u001b[0mtrain_image\u001b[0m \u001b[0;34m=\u001b[0m \u001b[0;34m[\u001b[0m\u001b[0;34mf'{img_path}/{i+7000}.jpg'\u001b[0m \u001b[0;32mfor\u001b[0m \u001b[0mi\u001b[0m \u001b[0;32min\u001b[0m \u001b[0mrange\u001b[0m\u001b[0;34m(\u001b[0m\u001b[0mlen\u001b[0m\u001b[0;34m(\u001b[0m\u001b[0mtrain_label\u001b[0m\u001b[0;34m)\u001b[0m\u001b[0;34m-\u001b[0m\u001b[0;36m1\u001b[0m\u001b[0;34m)\u001b[0m\u001b[0;34m]\u001b[0m\u001b[0;34m\u001b[0m\u001b[0;34m\u001b[0m\u001b[0m\n\u001b[1;32m      4\u001b[0m \u001b[0;34m\u001b[0m\u001b[0m\n\u001b[1;32m      5\u001b[0m     \u001b[0mtrain_data\u001b[0m \u001b[0;34m=\u001b[0m \u001b[0mlist\u001b[0m\u001b[0;34m(\u001b[0m\u001b[0mzip\u001b[0m\u001b[0;34m(\u001b[0m\u001b[0mtrain_image\u001b[0m\u001b[0;34m,\u001b[0m \u001b[0mtrain_label\u001b[0m\u001b[0;34m)\u001b[0m\u001b[0;34m)\u001b[0m\u001b[0;34m\u001b[0m\u001b[0;34m\u001b[0m\u001b[0m\n",
            "\u001b[0;32m/usr/local/lib/python3.10/dist-packages/pandas/util/_decorators.py\u001b[0m in \u001b[0;36mwrapper\u001b[0;34m(*args, **kwargs)\u001b[0m\n\u001b[1;32m    209\u001b[0m                 \u001b[0;32melse\u001b[0m\u001b[0;34m:\u001b[0m\u001b[0;34m\u001b[0m\u001b[0;34m\u001b[0m\u001b[0m\n\u001b[1;32m    210\u001b[0m                     \u001b[0mkwargs\u001b[0m\u001b[0;34m[\u001b[0m\u001b[0mnew_arg_name\u001b[0m\u001b[0;34m]\u001b[0m \u001b[0;34m=\u001b[0m \u001b[0mnew_arg_value\u001b[0m\u001b[0;34m\u001b[0m\u001b[0;34m\u001b[0m\u001b[0m\n\u001b[0;32m--> 211\u001b[0;31m             \u001b[0;32mreturn\u001b[0m \u001b[0mfunc\u001b[0m\u001b[0;34m(\u001b[0m\u001b[0;34m*\u001b[0m\u001b[0margs\u001b[0m\u001b[0;34m,\u001b[0m \u001b[0;34m**\u001b[0m\u001b[0mkwargs\u001b[0m\u001b[0;34m)\u001b[0m\u001b[0;34m\u001b[0m\u001b[0;34m\u001b[0m\u001b[0m\n\u001b[0m\u001b[1;32m    212\u001b[0m \u001b[0;34m\u001b[0m\u001b[0m\n\u001b[1;32m    213\u001b[0m         \u001b[0;32mreturn\u001b[0m \u001b[0mcast\u001b[0m\u001b[0;34m(\u001b[0m\u001b[0mF\u001b[0m\u001b[0;34m,\u001b[0m \u001b[0mwrapper\u001b[0m\u001b[0;34m)\u001b[0m\u001b[0;34m\u001b[0m\u001b[0;34m\u001b[0m\u001b[0m\n",
            "\u001b[0;32m/usr/local/lib/python3.10/dist-packages/pandas/util/_decorators.py\u001b[0m in \u001b[0;36mwrapper\u001b[0;34m(*args, **kwargs)\u001b[0m\n\u001b[1;32m    329\u001b[0m                     \u001b[0mstacklevel\u001b[0m\u001b[0;34m=\u001b[0m\u001b[0mfind_stack_level\u001b[0m\u001b[0;34m(\u001b[0m\u001b[0;34m)\u001b[0m\u001b[0;34m,\u001b[0m\u001b[0;34m\u001b[0m\u001b[0;34m\u001b[0m\u001b[0m\n\u001b[1;32m    330\u001b[0m                 )\n\u001b[0;32m--> 331\u001b[0;31m             \u001b[0;32mreturn\u001b[0m \u001b[0mfunc\u001b[0m\u001b[0;34m(\u001b[0m\u001b[0;34m*\u001b[0m\u001b[0margs\u001b[0m\u001b[0;34m,\u001b[0m \u001b[0;34m**\u001b[0m\u001b[0mkwargs\u001b[0m\u001b[0;34m)\u001b[0m\u001b[0;34m\u001b[0m\u001b[0;34m\u001b[0m\u001b[0m\n\u001b[0m\u001b[1;32m    332\u001b[0m \u001b[0;34m\u001b[0m\u001b[0m\n\u001b[1;32m    333\u001b[0m         \u001b[0;31m# error: \"Callable[[VarArg(Any), KwArg(Any)], Any]\" has no\u001b[0m\u001b[0;34m\u001b[0m\u001b[0;34m\u001b[0m\u001b[0m\n",
            "\u001b[0;32m/usr/local/lib/python3.10/dist-packages/pandas/io/parsers/readers.py\u001b[0m in \u001b[0;36mread_csv\u001b[0;34m(filepath_or_buffer, sep, delimiter, header, names, index_col, usecols, squeeze, prefix, mangle_dupe_cols, dtype, engine, converters, true_values, false_values, skipinitialspace, skiprows, skipfooter, nrows, na_values, keep_default_na, na_filter, verbose, skip_blank_lines, parse_dates, infer_datetime_format, keep_date_col, date_parser, dayfirst, cache_dates, iterator, chunksize, compression, thousands, decimal, lineterminator, quotechar, quoting, doublequote, escapechar, comment, encoding, encoding_errors, dialect, error_bad_lines, warn_bad_lines, on_bad_lines, delim_whitespace, low_memory, memory_map, float_precision, storage_options)\u001b[0m\n\u001b[1;32m    948\u001b[0m     \u001b[0mkwds\u001b[0m\u001b[0;34m.\u001b[0m\u001b[0mupdate\u001b[0m\u001b[0;34m(\u001b[0m\u001b[0mkwds_defaults\u001b[0m\u001b[0;34m)\u001b[0m\u001b[0;34m\u001b[0m\u001b[0;34m\u001b[0m\u001b[0m\n\u001b[1;32m    949\u001b[0m \u001b[0;34m\u001b[0m\u001b[0m\n\u001b[0;32m--> 950\u001b[0;31m     \u001b[0;32mreturn\u001b[0m \u001b[0m_read\u001b[0m\u001b[0;34m(\u001b[0m\u001b[0mfilepath_or_buffer\u001b[0m\u001b[0;34m,\u001b[0m \u001b[0mkwds\u001b[0m\u001b[0;34m)\u001b[0m\u001b[0;34m\u001b[0m\u001b[0;34m\u001b[0m\u001b[0m\n\u001b[0m\u001b[1;32m    951\u001b[0m \u001b[0;34m\u001b[0m\u001b[0m\n\u001b[1;32m    952\u001b[0m \u001b[0;34m\u001b[0m\u001b[0m\n",
            "\u001b[0;32m/usr/local/lib/python3.10/dist-packages/pandas/io/parsers/readers.py\u001b[0m in \u001b[0;36m_read\u001b[0;34m(filepath_or_buffer, kwds)\u001b[0m\n\u001b[1;32m    603\u001b[0m \u001b[0;34m\u001b[0m\u001b[0m\n\u001b[1;32m    604\u001b[0m     \u001b[0;31m# Create the parser.\u001b[0m\u001b[0;34m\u001b[0m\u001b[0;34m\u001b[0m\u001b[0m\n\u001b[0;32m--> 605\u001b[0;31m     \u001b[0mparser\u001b[0m \u001b[0;34m=\u001b[0m \u001b[0mTextFileReader\u001b[0m\u001b[0;34m(\u001b[0m\u001b[0mfilepath_or_buffer\u001b[0m\u001b[0;34m,\u001b[0m \u001b[0;34m**\u001b[0m\u001b[0mkwds\u001b[0m\u001b[0;34m)\u001b[0m\u001b[0;34m\u001b[0m\u001b[0;34m\u001b[0m\u001b[0m\n\u001b[0m\u001b[1;32m    606\u001b[0m \u001b[0;34m\u001b[0m\u001b[0m\n\u001b[1;32m    607\u001b[0m     \u001b[0;32mif\u001b[0m \u001b[0mchunksize\u001b[0m \u001b[0;32mor\u001b[0m \u001b[0miterator\u001b[0m\u001b[0;34m:\u001b[0m\u001b[0;34m\u001b[0m\u001b[0;34m\u001b[0m\u001b[0m\n",
            "\u001b[0;32m/usr/local/lib/python3.10/dist-packages/pandas/io/parsers/readers.py\u001b[0m in \u001b[0;36m__init__\u001b[0;34m(self, f, engine, **kwds)\u001b[0m\n\u001b[1;32m   1440\u001b[0m \u001b[0;34m\u001b[0m\u001b[0m\n\u001b[1;32m   1441\u001b[0m         \u001b[0mself\u001b[0m\u001b[0;34m.\u001b[0m\u001b[0mhandles\u001b[0m\u001b[0;34m:\u001b[0m \u001b[0mIOHandles\u001b[0m \u001b[0;34m|\u001b[0m \u001b[0;32mNone\u001b[0m \u001b[0;34m=\u001b[0m \u001b[0;32mNone\u001b[0m\u001b[0;34m\u001b[0m\u001b[0;34m\u001b[0m\u001b[0m\n\u001b[0;32m-> 1442\u001b[0;31m         \u001b[0mself\u001b[0m\u001b[0;34m.\u001b[0m\u001b[0m_engine\u001b[0m \u001b[0;34m=\u001b[0m \u001b[0mself\u001b[0m\u001b[0;34m.\u001b[0m\u001b[0m_make_engine\u001b[0m\u001b[0;34m(\u001b[0m\u001b[0mf\u001b[0m\u001b[0;34m,\u001b[0m \u001b[0mself\u001b[0m\u001b[0;34m.\u001b[0m\u001b[0mengine\u001b[0m\u001b[0;34m)\u001b[0m\u001b[0;34m\u001b[0m\u001b[0;34m\u001b[0m\u001b[0m\n\u001b[0m\u001b[1;32m   1443\u001b[0m \u001b[0;34m\u001b[0m\u001b[0m\n\u001b[1;32m   1444\u001b[0m     \u001b[0;32mdef\u001b[0m \u001b[0mclose\u001b[0m\u001b[0;34m(\u001b[0m\u001b[0mself\u001b[0m\u001b[0;34m)\u001b[0m \u001b[0;34m->\u001b[0m \u001b[0;32mNone\u001b[0m\u001b[0;34m:\u001b[0m\u001b[0;34m\u001b[0m\u001b[0;34m\u001b[0m\u001b[0m\n",
            "\u001b[0;32m/usr/local/lib/python3.10/dist-packages/pandas/io/parsers/readers.py\u001b[0m in \u001b[0;36m_make_engine\u001b[0;34m(self, f, engine)\u001b[0m\n\u001b[1;32m   1733\u001b[0m                 \u001b[0;32mif\u001b[0m \u001b[0;34m\"b\"\u001b[0m \u001b[0;32mnot\u001b[0m \u001b[0;32min\u001b[0m \u001b[0mmode\u001b[0m\u001b[0;34m:\u001b[0m\u001b[0;34m\u001b[0m\u001b[0;34m\u001b[0m\u001b[0m\n\u001b[1;32m   1734\u001b[0m                     \u001b[0mmode\u001b[0m \u001b[0;34m+=\u001b[0m \u001b[0;34m\"b\"\u001b[0m\u001b[0;34m\u001b[0m\u001b[0;34m\u001b[0m\u001b[0m\n\u001b[0;32m-> 1735\u001b[0;31m             self.handles = get_handle(\n\u001b[0m\u001b[1;32m   1736\u001b[0m                 \u001b[0mf\u001b[0m\u001b[0;34m,\u001b[0m\u001b[0;34m\u001b[0m\u001b[0;34m\u001b[0m\u001b[0m\n\u001b[1;32m   1737\u001b[0m                 \u001b[0mmode\u001b[0m\u001b[0;34m,\u001b[0m\u001b[0;34m\u001b[0m\u001b[0;34m\u001b[0m\u001b[0m\n",
            "\u001b[0;32m/usr/local/lib/python3.10/dist-packages/pandas/io/common.py\u001b[0m in \u001b[0;36mget_handle\u001b[0;34m(path_or_buf, mode, encoding, compression, memory_map, is_text, errors, storage_options)\u001b[0m\n\u001b[1;32m    854\u001b[0m         \u001b[0;32mif\u001b[0m \u001b[0mioargs\u001b[0m\u001b[0;34m.\u001b[0m\u001b[0mencoding\u001b[0m \u001b[0;32mand\u001b[0m \u001b[0;34m\"b\"\u001b[0m \u001b[0;32mnot\u001b[0m \u001b[0;32min\u001b[0m \u001b[0mioargs\u001b[0m\u001b[0;34m.\u001b[0m\u001b[0mmode\u001b[0m\u001b[0;34m:\u001b[0m\u001b[0;34m\u001b[0m\u001b[0;34m\u001b[0m\u001b[0m\n\u001b[1;32m    855\u001b[0m             \u001b[0;31m# Encoding\u001b[0m\u001b[0;34m\u001b[0m\u001b[0;34m\u001b[0m\u001b[0m\n\u001b[0;32m--> 856\u001b[0;31m             handle = open(\n\u001b[0m\u001b[1;32m    857\u001b[0m                 \u001b[0mhandle\u001b[0m\u001b[0;34m,\u001b[0m\u001b[0;34m\u001b[0m\u001b[0;34m\u001b[0m\u001b[0m\n\u001b[1;32m    858\u001b[0m                 \u001b[0mioargs\u001b[0m\u001b[0;34m.\u001b[0m\u001b[0mmode\u001b[0m\u001b[0;34m,\u001b[0m\u001b[0;34m\u001b[0m\u001b[0;34m\u001b[0m\u001b[0m\n",
            "\u001b[0;31mFileNotFoundError\u001b[0m: [Errno 2] No such file or directory: 'data/train.csv'"
          ]
        }
      ]
    },
    {
      "cell_type": "markdown",
      "metadata": {
        "id": "voXR5jPVPnxp"
      },
      "source": [
        "#### Customize dataset"
      ]
    },
    {
      "cell_type": "code",
      "metadata": {
        "id": "VyMfGXwgMWQV"
      },
      "source": [
        "class FaceExpressionDataset(Dataset):\n",
        "    def __init__(self, data, augment=None):\n",
        "        self.data = data\n",
        "        self.augment = augment\n",
        "\n",
        "    def __len__(self):\n",
        "        return len(self.data)\n",
        "\n",
        "    def normalize(self, data):\n",
        "        # TODO: do normalization there\n",
        "        pass\n",
        "\n",
        "    def read_img(self, idx):\n",
        "        img = Image.open(self.data[idx][0])\n",
        "        if not self.augment is None:\n",
        "            img = self.augment(img)\n",
        "        img = torch.from_numpy(np.array(img)).float()\n",
        "        img = img.unsqueeze(0).float()\n",
        "        # img = self.normalize(img)\n",
        "        return img\n",
        "\n",
        "    def __getitem__(self, idx):\n",
        "        img = self.read_img(idx)\n",
        "        label = self.data[idx][1]\n",
        "        return img, label\n",
        "\n",
        "class TestingDataset(Dataset):\n",
        "    def __init__(self, data, augment=None):\n",
        "        self.data = data\n",
        "        self.augment = augment\n",
        "\n",
        "    def __len__(self):\n",
        "        return len(self.data)\n",
        "\n",
        "    def normalize(self, data):\n",
        "        # TODO: do normalization there\n",
        "        pass\n",
        "\n",
        "    def read_img(self, idx):\n",
        "        img = Image.open(self.data[idx])\n",
        "        if not self.augment is None:\n",
        "            img = self.augment(img)\n",
        "        img = torch.from_numpy(np.array(img)).float()\n",
        "        img = img.unsqueeze(0).float()\n",
        "        # img = self.normalize(img)\n",
        "        return img, self.data[idx].split('/')[-1][:-4]\n",
        "\n",
        "    def __getitem__(self, idx):\n",
        "        img, name = self.read_img(idx)\n",
        "\n",
        "        return img, name"
      ],
      "execution_count": null,
      "outputs": []
    },
    {
      "cell_type": "code",
      "metadata": {
        "id": "Dm6AqmFzOSz6"
      },
      "source": [
        "train_dataset = FaceExpressionDataset(train_set, transform)\n",
        "train_loader = DataLoader(train_dataset, batch_size=128, shuffle=True)\n",
        "\n",
        "valid_dataset = FaceExpressionDataset(valid_set)\n",
        "valid_loader = DataLoader(valid_dataset, batch_size=128, shuffle=False)\n",
        "\n",
        "test_dataset = TestingDataset(test_set)\n",
        "test_loader = DataLoader(test_dataset, batch_size=128, shuffle=False)"
      ],
      "execution_count": null,
      "outputs": []
    },
    {
      "cell_type": "markdown",
      "metadata": {
        "id": "SLA_KBidRF73"
      },
      "source": [
        "#### Define module class"
      ]
    },
    {
      "cell_type": "code",
      "metadata": {
        "id": "3QwewjIWP39y"
      },
      "source": [
        "class FaceExpressionNet(nn.Module):\n",
        "    def __init__(self):\n",
        "        super(FaceExpressionNet, self).__init__()\n",
        "        # TODO\n",
        "        self.conv = nn.Sequential(\n",
        "            nn.Conv2d(1, 64, kernel_size=3, padding=1),\n",
        "            nn.BatchNorm2d(64, eps=1e-05, affine=True),\n",
        "            nn.LeakyReLU(negative_slope=0.05),\n",
        "            nn.MaxPool2d((2, 2)),\n",
        "        )\n",
        "        self.fc = nn.Sequential(\n",
        "            nn.Linear(64 * 32 * 32, 7),\n",
        "        )\n",
        "\n",
        "    def forward(self, x):\n",
        "        #image size (64,64)\n",
        "        x = self.conv(x) #(32,32)\n",
        "        x = x.flatten(start_dim=1)\n",
        "        x = self.fc(x)\n",
        "        return x"
      ],
      "execution_count": null,
      "outputs": []
    },
    {
      "cell_type": "markdown",
      "metadata": {
        "id": "jyyjQS2eOSz7"
      },
      "source": [
        "#### Define training and testing process"
      ]
    },
    {
      "cell_type": "code",
      "metadata": {
        "id": "oFCMvUe0OSz7"
      },
      "source": [
        "def train(train_loader, model, loss_fn, use_gpu=True):\n",
        "    model.train()\n",
        "    train_loss = []\n",
        "    train_acc = []\n",
        "    for (img, label) in train_loader:\n",
        "        if use_gpu:\n",
        "            img = img.to(device)\n",
        "            label = label.to(device)\n",
        "        optimizer.zero_grad()\n",
        "        output = model(img)\n",
        "        loss = loss_fn(output, label)\n",
        "        loss.backward()\n",
        "        optimizer.step()\n",
        "        with torch.no_grad():\n",
        "            predict = torch.argmax(output, dim=-1)\n",
        "            acc = np.mean((label == predict).cpu().numpy())\n",
        "            train_acc.append(acc)\n",
        "            train_loss.append(loss.item())\n",
        "    print(\"Epoch: {}, train Loss: {:.4f}, train Acc: {:.4f}\".format(epoch + 1, np.mean(train_loss), np.mean(train_acc)))\n",
        "\n",
        "def valid(valid_loader, model, loss_fn, use_gpu=True):\n",
        "    model.eval()\n",
        "    with torch.no_grad():\n",
        "        valid_loss = []\n",
        "        valid_acc = []\n",
        "        for idx, (img, label) in enumerate(valid_loader):\n",
        "            if use_gpu:\n",
        "                img = img.to(device)\n",
        "                label = label.to(device)\n",
        "            output = model(img)\n",
        "            loss = loss_fn(output, label)\n",
        "            predict = torch.argmax(output, dim=-1)\n",
        "            acc = (label == predict).cpu().tolist()\n",
        "            valid_loss.append(loss.item())\n",
        "            valid_acc += acc\n",
        "\n",
        "        valid_acc = np.mean(valid_acc)\n",
        "        valid_loss = np.mean(valid_loss)\n",
        "        print(\"Epoch: {}, valid Loss: {:.4f}, valid Acc: {:.4f}\".format(epoch + 1, valid_loss, valid_acc))\n",
        "    return valid_acc\n",
        "\n",
        "def save_checkpoint(valid_acc, acc_record, epoch, prefix='model'):\n",
        "    # you can define the condition to save model :)\n",
        "    if valid_acc >= np.mean(acc_record[-5:]):\n",
        "        checkpoint_path = f'{prefix}.pth'\n",
        "        torch.save(model.state_dict(), checkpoint_path)\n",
        "        print('model saved to %s' % checkpoint_path)\n",
        "\n",
        "def better(acc_record):\n",
        "    if max(acc_record) == acc_record[-1]: return True\n",
        "    return False"
      ],
      "execution_count": null,
      "outputs": []
    },
    {
      "cell_type": "code",
      "metadata": {
        "id": "pBHN_XSsTF6p"
      },
      "source": [
        "if __name__ == '__main__':\n",
        "    model = FaceExpressionNet()\n",
        "    if use_gpu:\n",
        "        model.to(device)\n",
        "\n",
        "    optimizer = torch.optim.Adam(model.parameters(), lr=0.001)\n",
        "    loss_fn = nn.CrossEntropyLoss()\n",
        "\n",
        "    acc_record = []\n",
        "\n",
        "    for epoch in range(NUM_ECPOCH):\n",
        "        train(train_loader, model, loss_fn, use_gpu)\n",
        "        valid_acc = valid(valid_loader, model, loss_fn, use_gpu=True)\n",
        "        acc_record.append(valid_acc)\n",
        "\n",
        "\n",
        "        if better(acc_record):\n",
        "            save_checkpoint(valid_acc, acc_record, epoch, prefix='model')\n",
        "\n",
        "        print('########################################################')"
      ],
      "execution_count": null,
      "outputs": []
    },
    {
      "cell_type": "code",
      "metadata": {
        "id": "AqMcl44nOSz9"
      },
      "source": [
        "def test(test_loader, model, file_name='predict.csv'):\n",
        "    with torch.no_grad():\n",
        "        predict_result = []\n",
        "        predict_name = []\n",
        "        for img, name in test_loader:\n",
        "            if use_gpu:\n",
        "                img = img.to(device)\n",
        "            output = model(img)\n",
        "            predict = torch.argmax(output, dim=-1).tolist()\n",
        "            predict_result += predict\n",
        "            predict_name += name\n",
        "\n",
        "    with open(file_name, 'w', newline='') as csvfile:\n",
        "        writer = csv.writer(csvfile)\n",
        "        writer.writerow(['id', 'label'])\n",
        "        for id, r in zip(predict_name, predict_result):\n",
        "            writer.writerow([id, r])"
      ],
      "execution_count": null,
      "outputs": []
    },
    {
      "cell_type": "code",
      "metadata": {
        "id": "ZqtDLxvkOSz9"
      },
      "source": [
        "del model\n",
        "model = FaceExpressionNet()\n",
        "model.load_state_dict(torch.load('model.pth'))\n",
        "model = model.cuda()\n",
        "test(test_loader, model)"
      ],
      "execution_count": null,
      "outputs": []
    }
  ]
}